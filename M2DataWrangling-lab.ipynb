{
  "metadata": {
    "kernelspec": {
      "name": "python",
      "display_name": "Python (Pyodide)",
      "language": "python"
    },
    "language_info": {
      "codemirror_mode": {
        "name": "python",
        "version": 3
      },
      "file_extension": ".py",
      "mimetype": "text/x-python",
      "name": "python",
      "nbconvert_exporter": "python",
      "pygments_lexer": "ipython3",
      "version": "3.8"
    },
    "prev_pub_hash": "90ac80ca41fde58b95f02cc0cfc0a0f2ed3115615ffe1bdfdfc10fd5ffeef9a4"
  },
  "nbformat_minor": 4,
  "nbformat": 4,
  "cells": [
    {
      "cell_type": "markdown",
      "source": "<p style=\"text-align:center\">\n    <a href=\"https://skills.network/?utm_medium=Exinfluencer&utm_source=Exinfluencer&utm_content=000026UJ&utm_term=10006555&utm_id=NA-SkillsNetwork-Channel-SkillsNetworkCoursesIBMDA0321ENSkillsNetwork928-2022-01-01\" target=\"_blank\">\n    <img src=\"https://cf-courses-data.s3.us.cloud-object-storage.appdomain.cloud/assets/logos/SN_web_lightmode.png\" width=\"400\" alt=\"Skills Network Logo\"  />\n    </a>\n</p>\n",
      "metadata": {}
    },
    {
      "cell_type": "markdown",
      "source": "# **Data Wrangling Lab**\n",
      "metadata": {}
    },
    {
      "cell_type": "markdown",
      "source": "Estimated time needed: **45 to 60** minutes\n",
      "metadata": {}
    },
    {
      "cell_type": "markdown",
      "source": "In this assignment you will be performing data wrangling.\n",
      "metadata": {}
    },
    {
      "cell_type": "markdown",
      "source": "## Objectives\n",
      "metadata": {}
    },
    {
      "cell_type": "markdown",
      "source": "In this lab you will perform the following:\n",
      "metadata": {}
    },
    {
      "cell_type": "markdown",
      "source": "-   Identify duplicate values in the dataset.\n\n-   Remove duplicate values from the dataset.\n\n-   Identify missing values in the dataset.\n\n-   Impute the missing values in the dataset.\n\n-   Normalize data in the dataset.\n",
      "metadata": {}
    },
    {
      "cell_type": "markdown",
      "source": "<hr>\n",
      "metadata": {}
    },
    {
      "cell_type": "markdown",
      "source": "## Hands on Lab\n",
      "metadata": {}
    },
    {
      "cell_type": "markdown",
      "source": "Import pandas module.\n",
      "metadata": {}
    },
    {
      "cell_type": "code",
      "source": "import pandas as pd\nimport numpy as np",
      "metadata": {
        "trusted": true
      },
      "outputs": [],
      "execution_count": 13
    },
    {
      "cell_type": "markdown",
      "source": "Load the dataset into a dataframe.\n",
      "metadata": {}
    },
    {
      "cell_type": "markdown",
      "source": "<h2>Read Data</h2>\n<p>\nWe utilize the <code>pandas.read_csv()</code> function for reading CSV files. However, in this version of the lab, which operates on JupyterLite, the dataset needs to be downloaded to the interface using the provided code below.\n</p>\n",
      "metadata": {}
    },
    {
      "cell_type": "markdown",
      "source": "The functions below will download the dataset into your browser:\n",
      "metadata": {}
    },
    {
      "cell_type": "code",
      "source": "from pyodide.http import pyfetch\n\nasync def download(url, filename):\n    response = await pyfetch(url)\n    if response.status == 200:\n        with open(filename, \"wb\") as f:\n            f.write(await response.bytes())",
      "metadata": {
        "trusted": true
      },
      "outputs": [],
      "execution_count": 2
    },
    {
      "cell_type": "code",
      "source": "file_path = \"https://cf-courses-data.s3.us.cloud-object-storage.appdomain.cloud/IBM-DA0321EN-SkillsNetwork/LargeData/m1_survey_data.csv\"",
      "metadata": {
        "trusted": true
      },
      "outputs": [],
      "execution_count": 3
    },
    {
      "cell_type": "markdown",
      "source": "To obtain the dataset, utilize the download() function as defined above:  \n",
      "metadata": {}
    },
    {
      "cell_type": "code",
      "source": "await download(file_path, \"m1_survey_data.csv\")\nfile_name=\"m1_survey_data.csv\"",
      "metadata": {
        "trusted": true
      },
      "outputs": [],
      "execution_count": 4
    },
    {
      "cell_type": "markdown",
      "source": "Utilize the Pandas method read_csv() to load the data into a dataframe.\n",
      "metadata": {}
    },
    {
      "cell_type": "code",
      "source": "df = pd.read_csv(file_name)",
      "metadata": {
        "trusted": true
      },
      "outputs": [],
      "execution_count": 5
    },
    {
      "cell_type": "markdown",
      "source": "> Note: This version of the lab is working on JupyterLite, which requires the dataset to be downloaded to the interface.While working on the downloaded version of this notebook on their local machines(Jupyter Anaconda), the learners can simply **skip the steps above,** and simply use the URL directly in the `pandas.read_csv()` function. You can uncomment and run the statements in the cell below.\n",
      "metadata": {}
    },
    {
      "cell_type": "code",
      "source": "#df = pd.read_csv(\"https://cf-courses-data.s3.us.cloud-object-storage.appdomain.cloud/IBM-DA0321EN-SkillsNetwork/LargeData/m1_survey_data.csv\")",
      "metadata": {
        "trusted": true
      },
      "outputs": [],
      "execution_count": 6
    },
    {
      "cell_type": "markdown",
      "source": "## Finding duplicates\n",
      "metadata": {}
    },
    {
      "cell_type": "markdown",
      "source": "In this section you will identify duplicate values in the dataset.\n",
      "metadata": {}
    },
    {
      "cell_type": "markdown",
      "source": " Find how many duplicate rows exist in the dataframe.\n",
      "metadata": {}
    },
    {
      "cell_type": "code",
      "source": "# your code goes here\nduplicated_data= df[df.duplicated()]\nlen(duplicated_data)",
      "metadata": {
        "trusted": true
      },
      "outputs": [
        {
          "execution_count": 10,
          "output_type": "execute_result",
          "data": {
            "text/plain": "154"
          },
          "metadata": {}
        }
      ],
      "execution_count": 10
    },
    {
      "cell_type": "markdown",
      "source": "## Removing duplicates\n",
      "metadata": {}
    },
    {
      "cell_type": "markdown",
      "source": "Remove the duplicate rows from the dataframe.\n",
      "metadata": {}
    },
    {
      "cell_type": "code",
      "source": "# your code goes here\ndf.drop_duplicates(inplace=True)",
      "metadata": {
        "trusted": true
      },
      "outputs": [],
      "execution_count": 11
    },
    {
      "cell_type": "markdown",
      "source": "Verify if duplicates were actually dropped.\n",
      "metadata": {}
    },
    {
      "cell_type": "code",
      "source": "# your code goes here\nduplicated_data= df[df.duplicated()]\nlen(duplicated_data)",
      "metadata": {
        "trusted": true
      },
      "outputs": [
        {
          "execution_count": 12,
          "output_type": "execute_result",
          "data": {
            "text/plain": "0"
          },
          "metadata": {}
        }
      ],
      "execution_count": 12
    },
    {
      "cell_type": "markdown",
      "source": "## Finding Missing values\n",
      "metadata": {}
    },
    {
      "cell_type": "code",
      "source": "missing_data = df.isnull()\nmissing_data",
      "metadata": {
        "trusted": true
      },
      "outputs": [
        {
          "execution_count": 42,
          "output_type": "execute_result",
          "data": {
            "text/plain": "       Respondent  MainBranch  Hobbyist  OpenSourcer  OpenSource  Employment  \\\n0           False       False     False        False       False       False   \n1           False       False     False        False       False       False   \n2           False       False     False        False       False       False   \n3           False       False     False        False       False       False   \n4           False       False     False        False       False       False   \n...           ...         ...       ...          ...         ...         ...   \n11547       False       False     False        False       False       False   \n11548       False       False     False        False       False       False   \n11549       False       False     False        False       False       False   \n11550       False       False     False        False       False       False   \n11551       False       False     False        False       False       False   \n\n       Country  Student  EdLevel  UndergradMajor  EduOther  OrgSize  DevType  \\\n0        False    False    False           False     False    False    False   \n1        False    False    False           False     False    False    False   \n2        False    False    False           False     False    False    False   \n3        False    False    False            True     False    False    False   \n4        False    False    False           False     False    False    False   \n...        ...      ...      ...             ...       ...      ...      ...   \n11547    False    False    False           False     False    False    False   \n11548    False    False    False           False     False    False    False   \n11549    False    False    False           False     False    False    False   \n11550    False    False    False            True     False    False    False   \n11551    False    False    False           False     False    False    False   \n\n       YearsCode  Age1stCode  YearsCodePro  CareerSat  JobSat  MgrIdiot  \\\n0          False       False         False      False   False     False   \n1          False       False         False      False   False     False   \n2          False       False         False      False   False      True   \n3          False       False         False      False   False     False   \n4          False       False         False      False   False     False   \n...          ...         ...           ...        ...     ...       ...   \n11547      False       False         False      False   False     False   \n11548      False       False         False      False   False     False   \n11549      False       False         False      False   False     False   \n11550      False       False         False      False   False     False   \n11551      False       False         False      False   False     False   \n\n       MgrMoney  MgrWant  JobSeek  LastHireDate  LastInt  FizzBuzz  \\\n0         False    False    False         False    False     False   \n1         False    False    False         False    False     False   \n2          True     True    False         False    False     False   \n3         False    False    False         False    False     False   \n4         False    False    False         False    False     False   \n...         ...      ...      ...           ...      ...       ...   \n11547     False    False    False         False    False     False   \n11548     False    False    False         False     True     False   \n11549     False    False    False         False     True     False   \n11550     False    False    False         False    False     False   \n11551     False    False    False         False    False     False   \n\n       JobFactors  ResumeUpdate  CurrencySymbol  CurrencyDesc  CompTotal  \\\n0           False         False           False         False      False   \n1           False         False           False         False      False   \n2           False         False           False         False      False   \n3           False         False           False         False      False   \n4           False         False           False         False      False   \n...           ...           ...             ...           ...        ...   \n11547       False         False           False         False      False   \n11548       False         False           False         False      False   \n11549       False         False           False         False      False   \n11550       False         False           False         False      False   \n11551       False         False           False         False       True   \n\n       CompFreq  ConvertedComp  WorkWeekHrs  WorkPlan  WorkChallenge  \\\n0         False          False        False     False           True   \n1         False          False        False     False          False   \n2         False          False        False     False          False   \n3         False          False        False     False          False   \n4         False          False        False     False          False   \n...         ...            ...          ...       ...            ...   \n11547     False          False        False     False          False   \n11548     False          False        False     False          False   \n11549     False          False        False     False          False   \n11550     False          False        False     False          False   \n11551      True           True        False     False          False   \n\n       WorkRemote  WorkLoc  ImpSyn  CodeRev  CodeRevHrs  UnitTests  \\\n0           False    False   False    False        True      False   \n1           False    False   False    False       False      False   \n2           False    False   False    False       False      False   \n3           False    False   False    False        True      False   \n4           False    False   False    False       False      False   \n...           ...      ...     ...      ...         ...        ...   \n11547       False    False   False    False        True      False   \n11548       False    False   False    False       False      False   \n11549       False    False   False    False       False      False   \n11550       False    False   False    False       False      False   \n11551       False    False   False    False       False      False   \n\n       PurchaseHow  PurchaseWhat  LanguageWorkedWith  LanguageDesireNextYear  \\\n0            False         False               False                   False   \n1            False         False               False                   False   \n2            False         False               False                   False   \n3            False         False               False                   False   \n4            False         False               False                   False   \n...            ...           ...                 ...                     ...   \n11547        False         False               False                   False   \n11548        False         False               False                   False   \n11549        False         False               False                   False   \n11550        False         False               False                   False   \n11551        False         False               False                   False   \n\n       DatabaseWorkedWith  DatabaseDesireNextYear  PlatformWorkedWith  \\\n0                   False                   False               False   \n1                   False                   False               False   \n2                   False                   False               False   \n3                   False                   False                True   \n4                   False                   False               False   \n...                   ...                     ...                 ...   \n11547               False                   False               False   \n11548               False                   False               False   \n11549               False                    True               False   \n11550               False                   False               False   \n11551               False                   False               False   \n\n       PlatformDesireNextYear  WebFrameWorkedWith  WebFrameDesireNextYear  \\\n0                       False                True                    True   \n1                       False               False                   False   \n2                       False               False                   False   \n3                       False               False                   False   \n4                       False               False                   False   \n...                       ...                 ...                     ...   \n11547                   False               False                   False   \n11548                   False                True                   False   \n11549                   False                True                    True   \n11550                   False               False                   False   \n11551                   False                True                    True   \n\n       MiscTechWorkedWith  MiscTechDesireNextYear  DevEnviron  OpSys  \\\n0                   False                   False       False  False   \n1                   False                   False       False  False   \n2                   False                   False       False  False   \n3                   False                   False       False  False   \n4                   False                   False       False  False   \n...                   ...                     ...         ...    ...   \n11547               False                   False       False  False   \n11548                True                   False       False  False   \n11549                True                   False       False  False   \n11550               False                    True       False  False   \n11551               False                   False       False  False   \n\n       Containers  BlockchainOrg  BlockchainIs  BetterLife  ITperson  OffOn  \\\n0           False          False         False       False     False  False   \n1           False          False         False       False     False  False   \n2           False          False         False       False     False  False   \n3           False          False         False       False     False  False   \n4           False          False         False       False     False  False   \n...           ...            ...           ...         ...       ...    ...   \n11547       False          False         False       False     False  False   \n11548       False           True         False       False     False  False   \n11549       False          False         False       False     False  False   \n11550       False          False         False       False     False  False   \n11551       False          False         False       False     False  False   \n\n       SocialMedia  Extraversion  ScreenName  SOVisit1st  SOVisitFreq  \\\n0            False         False       False       False        False   \n1            False         False       False       False        False   \n2            False         False       False       False        False   \n3            False         False       False       False        False   \n4            False         False        True       False        False   \n...            ...           ...         ...         ...          ...   \n11547        False         False       False       False        False   \n11548        False         False       False       False        False   \n11549        False         False       False       False        False   \n11550        False         False       False       False        False   \n11551        False         False       False       False        False   \n\n       SOVisitTo  SOFindAnswer  SOTimeSaved  SOHowMuchTime  SOAccount  \\\n0          False         False        False          False      False   \n1          False         False        False           True      False   \n2          False         False        False          False      False   \n3          False         False        False          False      False   \n4          False         False        False          False      False   \n...          ...           ...          ...            ...        ...   \n11547      False         False        False          False      False   \n11548      False         False        False           True      False   \n11549      False         False        False          False      False   \n11550      False         False        False           True      False   \n11551      False         False        False          False      False   \n\n       SOPartFreq  SOJobs  EntTeams  SOComm  WelcomeChange  SONewContent  \\\n0           False   False     False   False          False         False   \n1           False   False     False   False          False          True   \n2           False   False     False   False          False         False   \n3           False   False     False   False          False         False   \n4           False   False     False   False          False         False   \n...           ...     ...       ...     ...            ...           ...   \n11547        True   False     False   False          False         False   \n11548       False   False     False   False          False         False   \n11549       False   False     False   False          False         False   \n11550       False   False     False   False          False          True   \n11551       False   False     False   False          False         False   \n\n         Age  Gender  Trans  Sexuality  Ethnicity  Dependents  SurveyLength  \\\n0      False   False  False      False      False       False         False   \n1      False   False  False      False      False       False         False   \n2      False   False  False      False      False       False         False   \n3      False   False  False      False      False       False         False   \n4      False   False  False      False      False       False         False   \n...      ...     ...    ...        ...        ...         ...           ...   \n11547  False   False  False      False      False       False         False   \n11548  False   False  False      False      False       False         False   \n11549  False   False  False      False      False       False         False   \n11550  False   False  False      False      False       False         False   \n11551  False   False  False      False      False       False         False   \n\n       SurveyEase  \n0           False  \n1           False  \n2           False  \n3           False  \n4           False  \n...           ...  \n11547       False  \n11548       False  \n11549       False  \n11550       False  \n11551       False  \n\n[11398 rows x 85 columns]",
            "text/html": "<div>\n<style scoped>\n    .dataframe tbody tr th:only-of-type {\n        vertical-align: middle;\n    }\n\n    .dataframe tbody tr th {\n        vertical-align: top;\n    }\n\n    .dataframe thead th {\n        text-align: right;\n    }\n</style>\n<table border=\"1\" class=\"dataframe\">\n  <thead>\n    <tr style=\"text-align: right;\">\n      <th></th>\n      <th>Respondent</th>\n      <th>MainBranch</th>\n      <th>Hobbyist</th>\n      <th>OpenSourcer</th>\n      <th>OpenSource</th>\n      <th>Employment</th>\n      <th>Country</th>\n      <th>Student</th>\n      <th>EdLevel</th>\n      <th>UndergradMajor</th>\n      <th>EduOther</th>\n      <th>OrgSize</th>\n      <th>DevType</th>\n      <th>YearsCode</th>\n      <th>Age1stCode</th>\n      <th>YearsCodePro</th>\n      <th>CareerSat</th>\n      <th>JobSat</th>\n      <th>MgrIdiot</th>\n      <th>MgrMoney</th>\n      <th>MgrWant</th>\n      <th>JobSeek</th>\n      <th>LastHireDate</th>\n      <th>LastInt</th>\n      <th>FizzBuzz</th>\n      <th>JobFactors</th>\n      <th>ResumeUpdate</th>\n      <th>CurrencySymbol</th>\n      <th>CurrencyDesc</th>\n      <th>CompTotal</th>\n      <th>CompFreq</th>\n      <th>ConvertedComp</th>\n      <th>WorkWeekHrs</th>\n      <th>WorkPlan</th>\n      <th>WorkChallenge</th>\n      <th>WorkRemote</th>\n      <th>WorkLoc</th>\n      <th>ImpSyn</th>\n      <th>CodeRev</th>\n      <th>CodeRevHrs</th>\n      <th>UnitTests</th>\n      <th>PurchaseHow</th>\n      <th>PurchaseWhat</th>\n      <th>LanguageWorkedWith</th>\n      <th>LanguageDesireNextYear</th>\n      <th>DatabaseWorkedWith</th>\n      <th>DatabaseDesireNextYear</th>\n      <th>PlatformWorkedWith</th>\n      <th>PlatformDesireNextYear</th>\n      <th>WebFrameWorkedWith</th>\n      <th>WebFrameDesireNextYear</th>\n      <th>MiscTechWorkedWith</th>\n      <th>MiscTechDesireNextYear</th>\n      <th>DevEnviron</th>\n      <th>OpSys</th>\n      <th>Containers</th>\n      <th>BlockchainOrg</th>\n      <th>BlockchainIs</th>\n      <th>BetterLife</th>\n      <th>ITperson</th>\n      <th>OffOn</th>\n      <th>SocialMedia</th>\n      <th>Extraversion</th>\n      <th>ScreenName</th>\n      <th>SOVisit1st</th>\n      <th>SOVisitFreq</th>\n      <th>SOVisitTo</th>\n      <th>SOFindAnswer</th>\n      <th>SOTimeSaved</th>\n      <th>SOHowMuchTime</th>\n      <th>SOAccount</th>\n      <th>SOPartFreq</th>\n      <th>SOJobs</th>\n      <th>EntTeams</th>\n      <th>SOComm</th>\n      <th>WelcomeChange</th>\n      <th>SONewContent</th>\n      <th>Age</th>\n      <th>Gender</th>\n      <th>Trans</th>\n      <th>Sexuality</th>\n      <th>Ethnicity</th>\n      <th>Dependents</th>\n      <th>SurveyLength</th>\n      <th>SurveyEase</th>\n    </tr>\n  </thead>\n  <tbody>\n    <tr>\n      <th>0</th>\n      <td>False</td>\n      <td>False</td>\n      <td>False</td>\n      <td>False</td>\n      <td>False</td>\n      <td>False</td>\n      <td>False</td>\n      <td>False</td>\n      <td>False</td>\n      <td>False</td>\n      <td>False</td>\n      <td>False</td>\n      <td>False</td>\n      <td>False</td>\n      <td>False</td>\n      <td>False</td>\n      <td>False</td>\n      <td>False</td>\n      <td>False</td>\n      <td>False</td>\n      <td>False</td>\n      <td>False</td>\n      <td>False</td>\n      <td>False</td>\n      <td>False</td>\n      <td>False</td>\n      <td>False</td>\n      <td>False</td>\n      <td>False</td>\n      <td>False</td>\n      <td>False</td>\n      <td>False</td>\n      <td>False</td>\n      <td>False</td>\n      <td>True</td>\n      <td>False</td>\n      <td>False</td>\n      <td>False</td>\n      <td>False</td>\n      <td>True</td>\n      <td>False</td>\n      <td>False</td>\n      <td>False</td>\n      <td>False</td>\n      <td>False</td>\n      <td>False</td>\n      <td>False</td>\n      <td>False</td>\n      <td>False</td>\n      <td>True</td>\n      <td>True</td>\n      <td>False</td>\n      <td>False</td>\n      <td>False</td>\n      <td>False</td>\n      <td>False</td>\n      <td>False</td>\n      <td>False</td>\n      <td>False</td>\n      <td>False</td>\n      <td>False</td>\n      <td>False</td>\n      <td>False</td>\n      <td>False</td>\n      <td>False</td>\n      <td>False</td>\n      <td>False</td>\n      <td>False</td>\n      <td>False</td>\n      <td>False</td>\n      <td>False</td>\n      <td>False</td>\n      <td>False</td>\n      <td>False</td>\n      <td>False</td>\n      <td>False</td>\n      <td>False</td>\n      <td>False</td>\n      <td>False</td>\n      <td>False</td>\n      <td>False</td>\n      <td>False</td>\n      <td>False</td>\n      <td>False</td>\n      <td>False</td>\n    </tr>\n    <tr>\n      <th>1</th>\n      <td>False</td>\n      <td>False</td>\n      <td>False</td>\n      <td>False</td>\n      <td>False</td>\n      <td>False</td>\n      <td>False</td>\n      <td>False</td>\n      <td>False</td>\n      <td>False</td>\n      <td>False</td>\n      <td>False</td>\n      <td>False</td>\n      <td>False</td>\n      <td>False</td>\n      <td>False</td>\n      <td>False</td>\n      <td>False</td>\n      <td>False</td>\n      <td>False</td>\n      <td>False</td>\n      <td>False</td>\n      <td>False</td>\n      <td>False</td>\n      <td>False</td>\n      <td>False</td>\n      <td>False</td>\n      <td>False</td>\n      <td>False</td>\n      <td>False</td>\n      <td>False</td>\n      <td>False</td>\n      <td>False</td>\n      <td>False</td>\n      <td>False</td>\n      <td>False</td>\n      <td>False</td>\n      <td>False</td>\n      <td>False</td>\n      <td>False</td>\n      <td>False</td>\n      <td>False</td>\n      <td>False</td>\n      <td>False</td>\n      <td>False</td>\n      <td>False</td>\n      <td>False</td>\n      <td>False</td>\n      <td>False</td>\n      <td>False</td>\n      <td>False</td>\n      <td>False</td>\n      <td>False</td>\n      <td>False</td>\n      <td>False</td>\n      <td>False</td>\n      <td>False</td>\n      <td>False</td>\n      <td>False</td>\n      <td>False</td>\n      <td>False</td>\n      <td>False</td>\n      <td>False</td>\n      <td>False</td>\n      <td>False</td>\n      <td>False</td>\n      <td>False</td>\n      <td>False</td>\n      <td>False</td>\n      <td>True</td>\n      <td>False</td>\n      <td>False</td>\n      <td>False</td>\n      <td>False</td>\n      <td>False</td>\n      <td>False</td>\n      <td>True</td>\n      <td>False</td>\n      <td>False</td>\n      <td>False</td>\n      <td>False</td>\n      <td>False</td>\n      <td>False</td>\n      <td>False</td>\n      <td>False</td>\n    </tr>\n    <tr>\n      <th>2</th>\n      <td>False</td>\n      <td>False</td>\n      <td>False</td>\n      <td>False</td>\n      <td>False</td>\n      <td>False</td>\n      <td>False</td>\n      <td>False</td>\n      <td>False</td>\n      <td>False</td>\n      <td>False</td>\n      <td>False</td>\n      <td>False</td>\n      <td>False</td>\n      <td>False</td>\n      <td>False</td>\n      <td>False</td>\n      <td>False</td>\n      <td>True</td>\n      <td>True</td>\n      <td>True</td>\n      <td>False</td>\n      <td>False</td>\n      <td>False</td>\n      <td>False</td>\n      <td>False</td>\n      <td>False</td>\n      <td>False</td>\n      <td>False</td>\n      <td>False</td>\n      <td>False</td>\n      <td>False</td>\n      <td>False</td>\n      <td>False</td>\n      <td>False</td>\n      <td>False</td>\n      <td>False</td>\n      <td>False</td>\n      <td>False</td>\n      <td>False</td>\n      <td>False</td>\n      <td>False</td>\n      <td>False</td>\n      <td>False</td>\n      <td>False</td>\n      <td>False</td>\n      <td>False</td>\n      <td>False</td>\n      <td>False</td>\n      <td>False</td>\n      <td>False</td>\n      <td>False</td>\n      <td>False</td>\n      <td>False</td>\n      <td>False</td>\n      <td>False</td>\n      <td>False</td>\n      <td>False</td>\n      <td>False</td>\n      <td>False</td>\n      <td>False</td>\n      <td>False</td>\n      <td>False</td>\n      <td>False</td>\n      <td>False</td>\n      <td>False</td>\n      <td>False</td>\n      <td>False</td>\n      <td>False</td>\n      <td>False</td>\n      <td>False</td>\n      <td>False</td>\n      <td>False</td>\n      <td>False</td>\n      <td>False</td>\n      <td>False</td>\n      <td>False</td>\n      <td>False</td>\n      <td>False</td>\n      <td>False</td>\n      <td>False</td>\n      <td>False</td>\n      <td>False</td>\n      <td>False</td>\n      <td>False</td>\n    </tr>\n    <tr>\n      <th>3</th>\n      <td>False</td>\n      <td>False</td>\n      <td>False</td>\n      <td>False</td>\n      <td>False</td>\n      <td>False</td>\n      <td>False</td>\n      <td>False</td>\n      <td>False</td>\n      <td>True</td>\n      <td>False</td>\n      <td>False</td>\n      <td>False</td>\n      <td>False</td>\n      <td>False</td>\n      <td>False</td>\n      <td>False</td>\n      <td>False</td>\n      <td>False</td>\n      <td>False</td>\n      <td>False</td>\n      <td>False</td>\n      <td>False</td>\n      <td>False</td>\n      <td>False</td>\n      <td>False</td>\n      <td>False</td>\n      <td>False</td>\n      <td>False</td>\n      <td>False</td>\n      <td>False</td>\n      <td>False</td>\n      <td>False</td>\n      <td>False</td>\n      <td>False</td>\n      <td>False</td>\n      <td>False</td>\n      <td>False</td>\n      <td>False</td>\n      <td>True</td>\n      <td>False</td>\n      <td>False</td>\n      <td>False</td>\n      <td>False</td>\n      <td>False</td>\n      <td>False</td>\n      <td>False</td>\n      <td>True</td>\n      <td>False</td>\n      <td>False</td>\n      <td>False</td>\n      <td>False</td>\n      <td>False</td>\n      <td>False</td>\n      <td>False</td>\n      <td>False</td>\n      <td>False</td>\n      <td>False</td>\n      <td>False</td>\n      <td>False</td>\n      <td>False</td>\n      <td>False</td>\n      <td>False</td>\n      <td>False</td>\n      <td>False</td>\n      <td>False</td>\n      <td>False</td>\n      <td>False</td>\n      <td>False</td>\n      <td>False</td>\n      <td>False</td>\n      <td>False</td>\n      <td>False</td>\n      <td>False</td>\n      <td>False</td>\n      <td>False</td>\n      <td>False</td>\n      <td>False</td>\n      <td>False</td>\n      <td>False</td>\n      <td>False</td>\n      <td>False</td>\n      <td>False</td>\n      <td>False</td>\n      <td>False</td>\n    </tr>\n    <tr>\n      <th>4</th>\n      <td>False</td>\n      <td>False</td>\n      <td>False</td>\n      <td>False</td>\n      <td>False</td>\n      <td>False</td>\n      <td>False</td>\n      <td>False</td>\n      <td>False</td>\n      <td>False</td>\n      <td>False</td>\n      <td>False</td>\n      <td>False</td>\n      <td>False</td>\n      <td>False</td>\n      <td>False</td>\n      <td>False</td>\n      <td>False</td>\n      <td>False</td>\n      <td>False</td>\n      <td>False</td>\n      <td>False</td>\n      <td>False</td>\n      <td>False</td>\n      <td>False</td>\n      <td>False</td>\n      <td>False</td>\n      <td>False</td>\n      <td>False</td>\n      <td>False</td>\n      <td>False</td>\n      <td>False</td>\n      <td>False</td>\n      <td>False</td>\n      <td>False</td>\n      <td>False</td>\n      <td>False</td>\n      <td>False</td>\n      <td>False</td>\n      <td>False</td>\n      <td>False</td>\n      <td>False</td>\n      <td>False</td>\n      <td>False</td>\n      <td>False</td>\n      <td>False</td>\n      <td>False</td>\n      <td>False</td>\n      <td>False</td>\n      <td>False</td>\n      <td>False</td>\n      <td>False</td>\n      <td>False</td>\n      <td>False</td>\n      <td>False</td>\n      <td>False</td>\n      <td>False</td>\n      <td>False</td>\n      <td>False</td>\n      <td>False</td>\n      <td>False</td>\n      <td>False</td>\n      <td>False</td>\n      <td>True</td>\n      <td>False</td>\n      <td>False</td>\n      <td>False</td>\n      <td>False</td>\n      <td>False</td>\n      <td>False</td>\n      <td>False</td>\n      <td>False</td>\n      <td>False</td>\n      <td>False</td>\n      <td>False</td>\n      <td>False</td>\n      <td>False</td>\n      <td>False</td>\n      <td>False</td>\n      <td>False</td>\n      <td>False</td>\n      <td>False</td>\n      <td>False</td>\n      <td>False</td>\n      <td>False</td>\n    </tr>\n    <tr>\n      <th>...</th>\n      <td>...</td>\n      <td>...</td>\n      <td>...</td>\n      <td>...</td>\n      <td>...</td>\n      <td>...</td>\n      <td>...</td>\n      <td>...</td>\n      <td>...</td>\n      <td>...</td>\n      <td>...</td>\n      <td>...</td>\n      <td>...</td>\n      <td>...</td>\n      <td>...</td>\n      <td>...</td>\n      <td>...</td>\n      <td>...</td>\n      <td>...</td>\n      <td>...</td>\n      <td>...</td>\n      <td>...</td>\n      <td>...</td>\n      <td>...</td>\n      <td>...</td>\n      <td>...</td>\n      <td>...</td>\n      <td>...</td>\n      <td>...</td>\n      <td>...</td>\n      <td>...</td>\n      <td>...</td>\n      <td>...</td>\n      <td>...</td>\n      <td>...</td>\n      <td>...</td>\n      <td>...</td>\n      <td>...</td>\n      <td>...</td>\n      <td>...</td>\n      <td>...</td>\n      <td>...</td>\n      <td>...</td>\n      <td>...</td>\n      <td>...</td>\n      <td>...</td>\n      <td>...</td>\n      <td>...</td>\n      <td>...</td>\n      <td>...</td>\n      <td>...</td>\n      <td>...</td>\n      <td>...</td>\n      <td>...</td>\n      <td>...</td>\n      <td>...</td>\n      <td>...</td>\n      <td>...</td>\n      <td>...</td>\n      <td>...</td>\n      <td>...</td>\n      <td>...</td>\n      <td>...</td>\n      <td>...</td>\n      <td>...</td>\n      <td>...</td>\n      <td>...</td>\n      <td>...</td>\n      <td>...</td>\n      <td>...</td>\n      <td>...</td>\n      <td>...</td>\n      <td>...</td>\n      <td>...</td>\n      <td>...</td>\n      <td>...</td>\n      <td>...</td>\n      <td>...</td>\n      <td>...</td>\n      <td>...</td>\n      <td>...</td>\n      <td>...</td>\n      <td>...</td>\n      <td>...</td>\n      <td>...</td>\n    </tr>\n    <tr>\n      <th>11547</th>\n      <td>False</td>\n      <td>False</td>\n      <td>False</td>\n      <td>False</td>\n      <td>False</td>\n      <td>False</td>\n      <td>False</td>\n      <td>False</td>\n      <td>False</td>\n      <td>False</td>\n      <td>False</td>\n      <td>False</td>\n      <td>False</td>\n      <td>False</td>\n      <td>False</td>\n      <td>False</td>\n      <td>False</td>\n      <td>False</td>\n      <td>False</td>\n      <td>False</td>\n      <td>False</td>\n      <td>False</td>\n      <td>False</td>\n      <td>False</td>\n      <td>False</td>\n      <td>False</td>\n      <td>False</td>\n      <td>False</td>\n      <td>False</td>\n      <td>False</td>\n      <td>False</td>\n      <td>False</td>\n      <td>False</td>\n      <td>False</td>\n      <td>False</td>\n      <td>False</td>\n      <td>False</td>\n      <td>False</td>\n      <td>False</td>\n      <td>True</td>\n      <td>False</td>\n      <td>False</td>\n      <td>False</td>\n      <td>False</td>\n      <td>False</td>\n      <td>False</td>\n      <td>False</td>\n      <td>False</td>\n      <td>False</td>\n      <td>False</td>\n      <td>False</td>\n      <td>False</td>\n      <td>False</td>\n      <td>False</td>\n      <td>False</td>\n      <td>False</td>\n      <td>False</td>\n      <td>False</td>\n      <td>False</td>\n      <td>False</td>\n      <td>False</td>\n      <td>False</td>\n      <td>False</td>\n      <td>False</td>\n      <td>False</td>\n      <td>False</td>\n      <td>False</td>\n      <td>False</td>\n      <td>False</td>\n      <td>False</td>\n      <td>False</td>\n      <td>True</td>\n      <td>False</td>\n      <td>False</td>\n      <td>False</td>\n      <td>False</td>\n      <td>False</td>\n      <td>False</td>\n      <td>False</td>\n      <td>False</td>\n      <td>False</td>\n      <td>False</td>\n      <td>False</td>\n      <td>False</td>\n      <td>False</td>\n    </tr>\n    <tr>\n      <th>11548</th>\n      <td>False</td>\n      <td>False</td>\n      <td>False</td>\n      <td>False</td>\n      <td>False</td>\n      <td>False</td>\n      <td>False</td>\n      <td>False</td>\n      <td>False</td>\n      <td>False</td>\n      <td>False</td>\n      <td>False</td>\n      <td>False</td>\n      <td>False</td>\n      <td>False</td>\n      <td>False</td>\n      <td>False</td>\n      <td>False</td>\n      <td>False</td>\n      <td>False</td>\n      <td>False</td>\n      <td>False</td>\n      <td>False</td>\n      <td>True</td>\n      <td>False</td>\n      <td>False</td>\n      <td>False</td>\n      <td>False</td>\n      <td>False</td>\n      <td>False</td>\n      <td>False</td>\n      <td>False</td>\n      <td>False</td>\n      <td>False</td>\n      <td>False</td>\n      <td>False</td>\n      <td>False</td>\n      <td>False</td>\n      <td>False</td>\n      <td>False</td>\n      <td>False</td>\n      <td>False</td>\n      <td>False</td>\n      <td>False</td>\n      <td>False</td>\n      <td>False</td>\n      <td>False</td>\n      <td>False</td>\n      <td>False</td>\n      <td>True</td>\n      <td>False</td>\n      <td>True</td>\n      <td>False</td>\n      <td>False</td>\n      <td>False</td>\n      <td>False</td>\n      <td>True</td>\n      <td>False</td>\n      <td>False</td>\n      <td>False</td>\n      <td>False</td>\n      <td>False</td>\n      <td>False</td>\n      <td>False</td>\n      <td>False</td>\n      <td>False</td>\n      <td>False</td>\n      <td>False</td>\n      <td>False</td>\n      <td>True</td>\n      <td>False</td>\n      <td>False</td>\n      <td>False</td>\n      <td>False</td>\n      <td>False</td>\n      <td>False</td>\n      <td>False</td>\n      <td>False</td>\n      <td>False</td>\n      <td>False</td>\n      <td>False</td>\n      <td>False</td>\n      <td>False</td>\n      <td>False</td>\n      <td>False</td>\n    </tr>\n    <tr>\n      <th>11549</th>\n      <td>False</td>\n      <td>False</td>\n      <td>False</td>\n      <td>False</td>\n      <td>False</td>\n      <td>False</td>\n      <td>False</td>\n      <td>False</td>\n      <td>False</td>\n      <td>False</td>\n      <td>False</td>\n      <td>False</td>\n      <td>False</td>\n      <td>False</td>\n      <td>False</td>\n      <td>False</td>\n      <td>False</td>\n      <td>False</td>\n      <td>False</td>\n      <td>False</td>\n      <td>False</td>\n      <td>False</td>\n      <td>False</td>\n      <td>True</td>\n      <td>False</td>\n      <td>False</td>\n      <td>False</td>\n      <td>False</td>\n      <td>False</td>\n      <td>False</td>\n      <td>False</td>\n      <td>False</td>\n      <td>False</td>\n      <td>False</td>\n      <td>False</td>\n      <td>False</td>\n      <td>False</td>\n      <td>False</td>\n      <td>False</td>\n      <td>False</td>\n      <td>False</td>\n      <td>False</td>\n      <td>False</td>\n      <td>False</td>\n      <td>False</td>\n      <td>False</td>\n      <td>True</td>\n      <td>False</td>\n      <td>False</td>\n      <td>True</td>\n      <td>True</td>\n      <td>True</td>\n      <td>False</td>\n      <td>False</td>\n      <td>False</td>\n      <td>False</td>\n      <td>False</td>\n      <td>False</td>\n      <td>False</td>\n      <td>False</td>\n      <td>False</td>\n      <td>False</td>\n      <td>False</td>\n      <td>False</td>\n      <td>False</td>\n      <td>False</td>\n      <td>False</td>\n      <td>False</td>\n      <td>False</td>\n      <td>False</td>\n      <td>False</td>\n      <td>False</td>\n      <td>False</td>\n      <td>False</td>\n      <td>False</td>\n      <td>False</td>\n      <td>False</td>\n      <td>False</td>\n      <td>False</td>\n      <td>False</td>\n      <td>False</td>\n      <td>False</td>\n      <td>False</td>\n      <td>False</td>\n      <td>False</td>\n    </tr>\n    <tr>\n      <th>11550</th>\n      <td>False</td>\n      <td>False</td>\n      <td>False</td>\n      <td>False</td>\n      <td>False</td>\n      <td>False</td>\n      <td>False</td>\n      <td>False</td>\n      <td>False</td>\n      <td>True</td>\n      <td>False</td>\n      <td>False</td>\n      <td>False</td>\n      <td>False</td>\n      <td>False</td>\n      <td>False</td>\n      <td>False</td>\n      <td>False</td>\n      <td>False</td>\n      <td>False</td>\n      <td>False</td>\n      <td>False</td>\n      <td>False</td>\n      <td>False</td>\n      <td>False</td>\n      <td>False</td>\n      <td>False</td>\n      <td>False</td>\n      <td>False</td>\n      <td>False</td>\n      <td>False</td>\n      <td>False</td>\n      <td>False</td>\n      <td>False</td>\n      <td>False</td>\n      <td>False</td>\n      <td>False</td>\n      <td>False</td>\n      <td>False</td>\n      <td>False</td>\n      <td>False</td>\n      <td>False</td>\n      <td>False</td>\n      <td>False</td>\n      <td>False</td>\n      <td>False</td>\n      <td>False</td>\n      <td>False</td>\n      <td>False</td>\n      <td>False</td>\n      <td>False</td>\n      <td>False</td>\n      <td>True</td>\n      <td>False</td>\n      <td>False</td>\n      <td>False</td>\n      <td>False</td>\n      <td>False</td>\n      <td>False</td>\n      <td>False</td>\n      <td>False</td>\n      <td>False</td>\n      <td>False</td>\n      <td>False</td>\n      <td>False</td>\n      <td>False</td>\n      <td>False</td>\n      <td>False</td>\n      <td>False</td>\n      <td>True</td>\n      <td>False</td>\n      <td>False</td>\n      <td>False</td>\n      <td>False</td>\n      <td>False</td>\n      <td>False</td>\n      <td>True</td>\n      <td>False</td>\n      <td>False</td>\n      <td>False</td>\n      <td>False</td>\n      <td>False</td>\n      <td>False</td>\n      <td>False</td>\n      <td>False</td>\n    </tr>\n    <tr>\n      <th>11551</th>\n      <td>False</td>\n      <td>False</td>\n      <td>False</td>\n      <td>False</td>\n      <td>False</td>\n      <td>False</td>\n      <td>False</td>\n      <td>False</td>\n      <td>False</td>\n      <td>False</td>\n      <td>False</td>\n      <td>False</td>\n      <td>False</td>\n      <td>False</td>\n      <td>False</td>\n      <td>False</td>\n      <td>False</td>\n      <td>False</td>\n      <td>False</td>\n      <td>False</td>\n      <td>False</td>\n      <td>False</td>\n      <td>False</td>\n      <td>False</td>\n      <td>False</td>\n      <td>False</td>\n      <td>False</td>\n      <td>False</td>\n      <td>False</td>\n      <td>True</td>\n      <td>True</td>\n      <td>True</td>\n      <td>False</td>\n      <td>False</td>\n      <td>False</td>\n      <td>False</td>\n      <td>False</td>\n      <td>False</td>\n      <td>False</td>\n      <td>False</td>\n      <td>False</td>\n      <td>False</td>\n      <td>False</td>\n      <td>False</td>\n      <td>False</td>\n      <td>False</td>\n      <td>False</td>\n      <td>False</td>\n      <td>False</td>\n      <td>True</td>\n      <td>True</td>\n      <td>False</td>\n      <td>False</td>\n      <td>False</td>\n      <td>False</td>\n      <td>False</td>\n      <td>False</td>\n      <td>False</td>\n      <td>False</td>\n      <td>False</td>\n      <td>False</td>\n      <td>False</td>\n      <td>False</td>\n      <td>False</td>\n      <td>False</td>\n      <td>False</td>\n      <td>False</td>\n      <td>False</td>\n      <td>False</td>\n      <td>False</td>\n      <td>False</td>\n      <td>False</td>\n      <td>False</td>\n      <td>False</td>\n      <td>False</td>\n      <td>False</td>\n      <td>False</td>\n      <td>False</td>\n      <td>False</td>\n      <td>False</td>\n      <td>False</td>\n      <td>False</td>\n      <td>False</td>\n      <td>False</td>\n      <td>False</td>\n    </tr>\n  </tbody>\n</table>\n<p>11398 rows × 85 columns</p>\n</div>"
          },
          "metadata": {}
        }
      ],
      "execution_count": 42
    },
    {
      "cell_type": "code",
      "source": "for column in missing_data.columns.values.tolist():\n    print(column)\n    print (missing_data[column].value_counts())\n    print(\"\") ",
      "metadata": {
        "trusted": true
      },
      "outputs": [
        {
          "name": "stdout",
          "text": "Respondent\nRespondent\nFalse    11398\nName: count, dtype: int64\n\nMainBranch\nMainBranch\nFalse    11398\nName: count, dtype: int64\n\nHobbyist\nHobbyist\nFalse    11398\nName: count, dtype: int64\n\nOpenSourcer\nOpenSourcer\nFalse    11398\nName: count, dtype: int64\n\nOpenSource\nOpenSource\nFalse    11317\nTrue        81\nName: count, dtype: int64\n\nEmployment\nEmployment\nFalse    11398\nName: count, dtype: int64\n\nCountry\nCountry\nFalse    11398\nName: count, dtype: int64\n\nStudent\nStudent\nFalse    11347\nTrue        51\nName: count, dtype: int64\n\nEdLevel\nEdLevel\nFalse    11286\nTrue       112\nName: count, dtype: int64\n\nUndergradMajor\nUndergradMajor\nFalse    10661\nTrue       737\nName: count, dtype: int64\n\nEduOther\nEduOther\nFalse    11234\nTrue       164\nName: count, dtype: int64\n\nOrgSize\nOrgSize\nFalse    11302\nTrue        96\nName: count, dtype: int64\n\nDevType\nDevType\nFalse    11333\nTrue        65\nName: count, dtype: int64\n\nYearsCode\nYearsCode\nFalse    11389\nTrue         9\nName: count, dtype: int64\n\nAge1stCode\nAge1stCode\nFalse    11385\nTrue        13\nName: count, dtype: int64\n\nYearsCodePro\nYearsCodePro\nFalse    11382\nTrue        16\nName: count, dtype: int64\n\nCareerSat\nCareerSat\nFalse    11398\nName: count, dtype: int64\n\nJobSat\nJobSat\nFalse    11397\nTrue         1\nName: count, dtype: int64\n\nMgrIdiot\nMgrIdiot\nFalse    10905\nTrue       493\nName: count, dtype: int64\n\nMgrMoney\nMgrMoney\nFalse    10901\nTrue       497\nName: count, dtype: int64\n\nMgrWant\nMgrWant\nFalse    10905\nTrue       493\nName: count, dtype: int64\n\nJobSeek\nJobSeek\nFalse    11398\nName: count, dtype: int64\n\nLastHireDate\nLastHireDate\nFalse    11398\nName: count, dtype: int64\n\nLastInt\nLastInt\nFalse    10985\nTrue       413\nName: count, dtype: int64\n\nFizzBuzz\nFizzBuzz\nFalse    11361\nTrue        37\nName: count, dtype: int64\n\nJobFactors\nJobFactors\nFalse    11395\nTrue         3\nName: count, dtype: int64\n\nResumeUpdate\nResumeUpdate\nFalse    11359\nTrue        39\nName: count, dtype: int64\n\nCurrencySymbol\nCurrencySymbol\nFalse    11398\nName: count, dtype: int64\n\nCurrencyDesc\nCurrencyDesc\nFalse    11398\nName: count, dtype: int64\n\nCompTotal\nCompTotal\nFalse    10589\nTrue       809\nName: count, dtype: int64\n\nCompFreq\nCompFreq\nFalse    11192\nTrue       206\nName: count, dtype: int64\n\nConvertedComp\nConvertedComp\nFalse    10582\nTrue       816\nName: count, dtype: int64\n\nWorkWeekHrs\nWorkWeekHrs\nFalse    11276\nTrue       122\nName: count, dtype: int64\n\nWorkPlan\nWorkPlan\nFalse    11277\nTrue       121\nName: count, dtype: int64\n\nWorkChallenge\nWorkChallenge\nFalse    11234\nTrue       164\nName: count, dtype: int64\n\nWorkRemote\nWorkRemote\nFalse    11390\nTrue         8\nName: count, dtype: int64\n\nWorkLoc\nWorkLoc\nFalse    11398\nName: count, dtype: int64\n\nImpSyn\nImpSyn\nFalse    11393\nTrue         5\nName: count, dtype: int64\n\nCodeRev\nCodeRev\nFalse    11397\nTrue         1\nName: count, dtype: int64\n\nCodeRevHrs\nCodeRevHrs\nFalse    8972\nTrue     2426\nName: count, dtype: int64\n\nUnitTests\nUnitTests\nFalse    11369\nTrue        29\nName: count, dtype: int64\n\nPurchaseHow\nPurchaseHow\nFalse    11202\nTrue       196\nName: count, dtype: int64\n\nPurchaseWhat\nPurchaseWhat\nFalse    11360\nTrue        38\nName: count, dtype: int64\n\nLanguageWorkedWith\nLanguageWorkedWith\nFalse    11387\nTrue        11\nName: count, dtype: int64\n\nLanguageDesireNextYear\nLanguageDesireNextYear\nFalse    11264\nTrue       134\nName: count, dtype: int64\n\nDatabaseWorkedWith\nDatabaseWorkedWith\nFalse    10945\nTrue       453\nName: count, dtype: int64\n\nDatabaseDesireNextYear\nDatabaseDesireNextYear\nFalse    10356\nTrue      1042\nName: count, dtype: int64\n\nPlatformWorkedWith\nPlatformWorkedWith\nFalse    10987\nTrue       411\nName: count, dtype: int64\n\nPlatformDesireNextYear\nPlatformDesireNextYear\nFalse    10854\nTrue       544\nName: count, dtype: int64\n\nWebFrameWorkedWith\nWebFrameWorkedWith\nFalse    10005\nTrue      1393\nName: count, dtype: int64\n\nWebFrameDesireNextYear\nWebFrameDesireNextYear\nFalse    9781\nTrue     1617\nName: count, dtype: int64\n\nMiscTechWorkedWith\nMiscTechWorkedWith\nFalse    9216\nTrue     2182\nName: count, dtype: int64\n\nMiscTechDesireNextYear\nMiscTechDesireNextYear\nFalse    9943\nTrue     1455\nName: count, dtype: int64\n\nDevEnviron\nDevEnviron\nFalse    11369\nTrue        29\nName: count, dtype: int64\n\nOpSys\nOpSys\nFalse    11364\nTrue        34\nName: count, dtype: int64\n\nContainers\nContainers\nFalse    11316\nTrue        82\nName: count, dtype: int64\n\nBlockchainOrg\nBlockchainOrg\nFalse    9076\nTrue     2322\nName: count, dtype: int64\n\nBlockchainIs\nBlockchainIs\nFalse    8788\nTrue     2610\nName: count, dtype: int64\n\nBetterLife\nBetterLife\nFalse    11300\nTrue        98\nName: count, dtype: int64\n\nITperson\nITperson\nFalse    11363\nTrue        35\nName: count, dtype: int64\n\nOffOn\nOffOn\nFalse    11360\nTrue        38\nName: count, dtype: int64\n\nSocialMedia\nSocialMedia\nFalse    11105\nTrue       293\nName: count, dtype: int64\n\nExtraversion\nExtraversion\nFalse    11378\nTrue        20\nName: count, dtype: int64\n\nScreenName\nScreenName\nFalse    10891\nTrue       507\nName: count, dtype: int64\n\nSOVisit1st\nSOVisit1st\nFalse    11073\nTrue       325\nName: count, dtype: int64\n\nSOVisitFreq\nSOVisitFreq\nFalse    11393\nTrue         5\nName: count, dtype: int64\n\nSOVisitTo\nSOVisitTo\nFalse    11397\nTrue         1\nName: count, dtype: int64\n\nSOFindAnswer\nSOFindAnswer\nFalse    11395\nTrue         3\nName: count, dtype: int64\n\nSOTimeSaved\nSOTimeSaved\nFalse    11348\nTrue        50\nName: count, dtype: int64\n\nSOHowMuchTime\nSOHowMuchTime\nFalse    9481\nTrue     1917\nName: count, dtype: int64\n\nSOAccount\nSOAccount\nFalse    11397\nTrue         1\nName: count, dtype: int64\n\nSOPartFreq\nSOPartFreq\nFalse    10270\nTrue      1128\nName: count, dtype: int64\n\nSOJobs\nSOJobs\nFalse    11392\nTrue         6\nName: count, dtype: int64\n\nEntTeams\nEntTeams\nFalse    11393\nTrue         5\nName: count, dtype: int64\n\nSOComm\nSOComm\nFalse    11398\nName: count, dtype: int64\n\nWelcomeChange\nWelcomeChange\nFalse    11313\nTrue        85\nName: count, dtype: int64\n\nSONewContent\nSONewContent\nFalse    9433\nTrue     1965\nName: count, dtype: int64\n\nAge\nAge\nFalse    11111\nTrue       287\nName: count, dtype: int64\n\nGender\nGender\nFalse    11325\nTrue        73\nName: count, dtype: int64\n\nTrans\nTrans\nFalse    11275\nTrue       123\nName: count, dtype: int64\n\nSexuality\nSexuality\nFalse    10856\nTrue       542\nName: count, dtype: int64\n\nEthnicity\nEthnicity\nFalse    10723\nTrue       675\nName: count, dtype: int64\n\nDependents\nDependents\nFalse    11258\nTrue       140\nName: count, dtype: int64\n\nSurveyLength\nSurveyLength\nFalse    11379\nTrue        19\nName: count, dtype: int64\n\nSurveyEase\nSurveyEase\nFalse    11384\nTrue        14\nName: count, dtype: int64\n\n",
          "output_type": "stream"
        }
      ],
      "execution_count": 43
    },
    {
      "cell_type": "markdown",
      "source": "Find the missing values for all columns.\n",
      "metadata": {}
    },
    {
      "cell_type": "code",
      "source": "null_counts = df.isnull().sum()\nnull_counts",
      "metadata": {
        "trusted": true
      },
      "outputs": [
        {
          "execution_count": 41,
          "output_type": "execute_result",
          "data": {
            "text/plain": "Respondent        0\nMainBranch        0\nHobbyist          0\nOpenSourcer       0\nOpenSource       81\n               ... \nSexuality       542\nEthnicity       675\nDependents      140\nSurveyLength     19\nSurveyEase       14\nLength: 85, dtype: int64"
          },
          "metadata": {}
        }
      ],
      "execution_count": 41
    },
    {
      "cell_type": "markdown",
      "source": "Find out how many rows are missing in the column 'WorkLoc'\n",
      "metadata": {}
    },
    {
      "cell_type": "code",
      "source": "null_counts.WorkLoc",
      "metadata": {
        "trusted": true
      },
      "outputs": [
        {
          "execution_count": 28,
          "output_type": "execute_result",
          "data": {
            "text/plain": "32"
          },
          "metadata": {}
        }
      ],
      "execution_count": 28
    },
    {
      "cell_type": "markdown",
      "source": "## Imputing missing values\n",
      "metadata": {}
    },
    {
      "cell_type": "markdown",
      "source": "Find the  value counts for the column WorkLoc.\n",
      "metadata": {}
    },
    {
      "cell_type": "code",
      "source": "df['WorkLoc'].value_counts()",
      "metadata": {
        "trusted": true
      },
      "outputs": [
        {
          "execution_count": 30,
          "output_type": "execute_result",
          "data": {
            "text/plain": "WorkLoc\nOffice                                            6806\nHome                                              3589\nOther place, such as a coworking space or cafe     971\nName: count, dtype: int64"
          },
          "metadata": {}
        }
      ],
      "execution_count": 30
    },
    {
      "cell_type": "markdown",
      "source": "Identify the value that is most frequent (majority) in the WorkLoc column.",
      "metadata": {}
    },
    {
      "cell_type": "code",
      "source": "#make a note of the majority value here, for future reference\ndf['WorkLoc'].mode()[0]",
      "metadata": {
        "trusted": true
      },
      "outputs": [
        {
          "execution_count": 36,
          "output_type": "execute_result",
          "data": {
            "text/plain": "'Office'"
          },
          "metadata": {}
        }
      ],
      "execution_count": 36
    },
    {
      "cell_type": "markdown",
      "source": "Impute (replace) all the empty rows in the column WorkLoc with the value that you have identified as majority.\n",
      "metadata": {}
    },
    {
      "cell_type": "code",
      "source": "most_frequent_value_of_workloc = df['WorkLoc'].mode()[0]\n\n# Impute the missing values in 'WorkLoc' with the most frequent value\ndf.loc[:, 'WorkLoc'] = df['WorkLoc'].fillna(most_frequent_value_of_workloc)",
      "metadata": {
        "trusted": true
      },
      "outputs": [],
      "execution_count": 38
    },
    {
      "cell_type": "markdown",
      "source": "After imputation there should ideally not be any empty rows in the WorkLoc column.\n",
      "metadata": {}
    },
    {
      "cell_type": "markdown",
      "source": "Verify if imputing was successful.\n",
      "metadata": {}
    },
    {
      "cell_type": "code",
      "source": "# your code goes here\ndf['WorkLoc'].isnull().sum()",
      "metadata": {
        "trusted": true
      },
      "outputs": [
        {
          "execution_count": 39,
          "output_type": "execute_result",
          "data": {
            "text/plain": "0"
          },
          "metadata": {}
        }
      ],
      "execution_count": 39
    },
    {
      "cell_type": "markdown",
      "source": "## Normalizing data\n",
      "metadata": {}
    },
    {
      "cell_type": "markdown",
      "source": "There are two columns in the dataset that talk about compensation.\n\nOne is \"CompFreq\". This column shows how often a developer is paid (Yearly, Monthly, Weekly).\n\nThe other is \"CompTotal\". This column talks about how much the developer is paid per Year, Month, or Week depending upon his/her \"CompFreq\". \n\nThis makes it difficult to compare the total compensation of the developers.\n\nIn this section you will create a new column called 'NormalizedAnnualCompensation' which contains the 'Annual Compensation' irrespective of the 'CompFreq'.\n\nOnce this column is ready, it makes comparison of salaries easy.\n",
      "metadata": {}
    },
    {
      "cell_type": "markdown",
      "source": "<hr>\n",
      "metadata": {}
    },
    {
      "cell_type": "markdown",
      "source": "List out the various categories in the column 'CompFreq'\n",
      "metadata": {}
    },
    {
      "cell_type": "code",
      "source": "df['CompFreq'].value_counts()",
      "metadata": {
        "trusted": true
      },
      "outputs": [
        {
          "execution_count": 46,
          "output_type": "execute_result",
          "data": {
            "text/plain": "CompFreq\nYearly     6073\nMonthly    4788\nWeekly      331\nName: count, dtype: int64"
          },
          "metadata": {}
        }
      ],
      "execution_count": 46
    },
    {
      "cell_type": "markdown",
      "source": "Create a new column named 'NormalizedAnnualCompensation'. Use the hint given below if needed.\n",
      "metadata": {}
    },
    {
      "cell_type": "markdown",
      "source": "Double click to see the **Hint**.\n\n<!--\n\nUse the below logic to arrive at the values for the column NormalizedAnnualCompensation.\n\nIf the CompFreq is Yearly then use the exising value in CompTotal\nIf the CompFreq is Monthly then multiply the value in CompTotal with 12 (months in an year)\nIf the CompFreq is Weekly then multiply the value in CompTotal with 52 (weeks in an year)\n\n-->",
      "metadata": {}
    },
    {
      "cell_type": "code",
      "source": "norm_annual_comp = []\n\nfor i in range(len(df)):\n    \n    if df['CompFreq'].iloc[i] == 'Weekly':\n        norm_annual_comp.append(df['CompTotal'].iloc[i]*52)\n    elif df['CompFreq'].iloc[i] == 'Monthly':\n        norm_annual_comp.append(df['CompTotal'].iloc[i]*12)\n    else:\n        norm_annual_comp.append(df['CompTotal'].iloc[i]*1)\n\ndf['NormalizedAnnualCompensation']= norm_annual_comp",
      "metadata": {
        "trusted": true
      },
      "outputs": [],
      "execution_count": 49
    },
    {
      "cell_type": "code",
      "source": "df.loc[:,['CompFreq','CompTotal','NormalizedAnnualCompensation']]",
      "metadata": {
        "trusted": true
      },
      "outputs": [
        {
          "execution_count": 50,
          "output_type": "execute_result",
          "data": {
            "text/plain": "      CompFreq  CompTotal  NormalizedAnnualCompensation\n0       Yearly    61000.0                       61000.0\n1       Yearly   138000.0                      138000.0\n2       Yearly    90000.0                       90000.0\n3      Monthly    29000.0                      348000.0\n4       Yearly    90000.0                       90000.0\n...        ...        ...                           ...\n11547   Yearly   130000.0                      130000.0\n11548   Yearly    74400.0                       74400.0\n11549   Yearly   105000.0                      105000.0\n11550   Yearly    80000.0                       80000.0\n11551      NaN        NaN                           NaN\n\n[11398 rows x 3 columns]",
            "text/html": "<div>\n<style scoped>\n    .dataframe tbody tr th:only-of-type {\n        vertical-align: middle;\n    }\n\n    .dataframe tbody tr th {\n        vertical-align: top;\n    }\n\n    .dataframe thead th {\n        text-align: right;\n    }\n</style>\n<table border=\"1\" class=\"dataframe\">\n  <thead>\n    <tr style=\"text-align: right;\">\n      <th></th>\n      <th>CompFreq</th>\n      <th>CompTotal</th>\n      <th>NormalizedAnnualCompensation</th>\n    </tr>\n  </thead>\n  <tbody>\n    <tr>\n      <th>0</th>\n      <td>Yearly</td>\n      <td>61000.0</td>\n      <td>61000.0</td>\n    </tr>\n    <tr>\n      <th>1</th>\n      <td>Yearly</td>\n      <td>138000.0</td>\n      <td>138000.0</td>\n    </tr>\n    <tr>\n      <th>2</th>\n      <td>Yearly</td>\n      <td>90000.0</td>\n      <td>90000.0</td>\n    </tr>\n    <tr>\n      <th>3</th>\n      <td>Monthly</td>\n      <td>29000.0</td>\n      <td>348000.0</td>\n    </tr>\n    <tr>\n      <th>4</th>\n      <td>Yearly</td>\n      <td>90000.0</td>\n      <td>90000.0</td>\n    </tr>\n    <tr>\n      <th>...</th>\n      <td>...</td>\n      <td>...</td>\n      <td>...</td>\n    </tr>\n    <tr>\n      <th>11547</th>\n      <td>Yearly</td>\n      <td>130000.0</td>\n      <td>130000.0</td>\n    </tr>\n    <tr>\n      <th>11548</th>\n      <td>Yearly</td>\n      <td>74400.0</td>\n      <td>74400.0</td>\n    </tr>\n    <tr>\n      <th>11549</th>\n      <td>Yearly</td>\n      <td>105000.0</td>\n      <td>105000.0</td>\n    </tr>\n    <tr>\n      <th>11550</th>\n      <td>Yearly</td>\n      <td>80000.0</td>\n      <td>80000.0</td>\n    </tr>\n    <tr>\n      <th>11551</th>\n      <td>NaN</td>\n      <td>NaN</td>\n      <td>NaN</td>\n    </tr>\n  </tbody>\n</table>\n<p>11398 rows × 3 columns</p>\n</div>"
          },
          "metadata": {}
        }
      ],
      "execution_count": 50
    },
    {
      "cell_type": "markdown",
      "source": "## Authors\n",
      "metadata": {}
    },
    {
      "cell_type": "markdown",
      "source": "Ramesh Sannareddy\n",
      "metadata": {}
    },
    {
      "cell_type": "markdown",
      "source": "### Other Contributors\n",
      "metadata": {}
    },
    {
      "cell_type": "markdown",
      "source": "Rav Ahuja\n",
      "metadata": {}
    },
    {
      "cell_type": "markdown",
      "source": " Copyright © 2020 IBM Corporation. This notebook and its source code are released under the terms of the [MIT License](https://cognitiveclass.ai/mit-license?utm_medium=Exinfluencer&utm_source=Exinfluencer&utm_content=000026UJ&utm_term=10006555&utm_id=NA-SkillsNetwork-Channel-SkillsNetworkCoursesIBMDA0321ENSkillsNetwork928-2022-01-01&cm_mmc=Email_Newsletter-_-Developer_Ed%2BTech-_-WW_WW-_-SkillsNetwork-Courses-IBM-DA0321EN-SkillsNetwork-21426264&cm_mmca1=000026UJ&cm_mmca2=10006555&cm_mmca3=M12345678&cvosrc=email.Newsletter.M12345678&cvo_campaign=000026UJ).\n",
      "metadata": {}
    },
    {
      "cell_type": "markdown",
      "source": "<!--## Change Log\n",
      "metadata": {}
    },
    {
      "cell_type": "markdown",
      "source": "<!--| Date (YYYY-MM-DD) | Version | Changed By        | Change Description                 |\n| ----------------- | ------- | ----------------- | ---------------------------------- |\n| 2020-10-17        | 0.1     | Ramesh Sannareddy | Created initial version of the lab |--!>\n",
      "metadata": {}
    }
  ]
}